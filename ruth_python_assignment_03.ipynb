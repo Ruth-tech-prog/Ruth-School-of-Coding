{
 "cells": [
  {
   "cell_type": "markdown",
   "id": "a3112832-15cd-4de8-94e1-687aa7b25f5b",
   "metadata": {},
   "source": [
    "# Assignment 3"
   ]
  },
  {
   "cell_type": "code",
   "execution_count": 97,
   "id": "13e7a613-aa62-48b8-85a6-a8c984cd08e5",
   "metadata": {},
   "outputs": [],
   "source": [
    "import numpy as np\n",
    "import matplotlib.pyplot as plt"
   ]
  },
  {
   "cell_type": "code",
   "execution_count": 99,
   "id": "00d037e8-f2b6-4e1b-a93d-2e19d9b8575f",
   "metadata": {},
   "outputs": [],
   "source": [
    "def test_function(data, correct_answers, f):\n",
    "    for i in range(len(data)):\n",
    "        answer = f(data[i])\n",
    "        if answer != correct_answers[i]:\n",
    "            print('WRONG ANSWER')\n",
    "            print('Argument:', data[i])\n",
    "            print('Correct answer:', correct_answers[i])\n",
    "            print('Your answer:', answer)\n",
    "            return\n",
    "    print('SUCCESS')"
   ]
  },
  {
   "cell_type": "markdown",
   "id": "1545ca64-e8de-4df3-bca5-53ae9f3e0261",
   "metadata": {},
   "source": [
    "## Problem 1: Longest run\n",
    "\n",
    "Let `A` be a numpy 1D array of integers. We say that positions $i,i+1,\\ldots,i+k-1$ form a **run** of length $k$ if\n",
    "$A[i]=A[i+1]=\\ldots=A[i+k-1]$. Write a function that returns the length of a longest run in `A`:"
   ]
  },
  {
   "cell_type": "code",
   "execution_count": 101,
   "id": "0654447b-f70d-4926-a84b-f52f5ff0fc3f",
   "metadata": {},
   "outputs": [],
   "source": [
    "def longest_run(A):\n",
    "    n = len(A)\n",
    "    if n == 0:\n",
    "        return 0\n",
    "    max_run = 1\n",
    "    current_run = 1\n",
    "    for i in range(1,n):\n",
    "        if A[i]-A[i-1] == 0:\n",
    "            current_run+= 1\n",
    "            if current_run > max_run:\n",
    "                max_run = current_run\n",
    "        else:\n",
    "            current_run = 1\n",
    "    return max_run       \n",
    "\n"
   ]
  },
  {
   "cell_type": "code",
   "execution_count": 103,
   "id": "bcf99a6f-1bc4-4362-869f-2dce1399cb84",
   "metadata": {},
   "outputs": [
    {
     "data": {
      "text/plain": [
       "4"
      ]
     },
     "execution_count": 103,
     "metadata": {},
     "output_type": "execute_result"
    }
   ],
   "source": [
    "hello = [1,1,2,2,43,4,45,6,6,6,67,5,5,5,3,23,4,5,7,7,8,9,9,7,5,4,3,2,21,345,6,7,7,7,7]\n",
    "longest_run(hello)"
   ]
  },
  {
   "cell_type": "markdown",
   "id": "65cd9abf-8a69-4396-b0e4-fd9d6faae581",
   "metadata": {},
   "source": [
    "Use the code below to test your function:"
   ]
  },
  {
   "cell_type": "code",
   "execution_count": 105,
   "id": "d7eb4fbf-067a-4d35-8e67-d6b1b392894c",
   "metadata": {
    "scrolled": true
   },
   "outputs": [
    {
     "name": "stdout",
     "output_type": "stream",
     "text": [
      "SUCCESS\n"
     ]
    }
   ],
   "source": [
    "def generate_pseudorandom_array(n, k):\n",
    "    m = 999331\n",
    "    a = 8121\n",
    "    b = 28411\n",
    "    current = 91\n",
    "    \n",
    "    L = []\n",
    "    for i in range(n):\n",
    "        L.append(current % k)\n",
    "        current = (a*current+b)%m\n",
    "    return np.array(L)\n",
    "data = [\n",
    "    np.array([]),\n",
    "    np.array([1]),\n",
    "    np.array([1,2,1]),\n",
    "    np.array([-1,-2,-2]),\n",
    "    generate_pseudorandom_array(1000, 3),\n",
    "    generate_pseudorandom_array(10000, 2),\n",
    "    generate_pseudorandom_array(1000000, 2)\n",
    "]\n",
    "correct_answers = [0, 1, 1, 2, 7, 16, 16]\n",
    "test_function(data, correct_answers, longest_run)"
   ]
  },
  {
   "cell_type": "markdown",
   "id": "dc130ec6-e9cb-4651-92c9-267aac5c1757",
   "metadata": {},
   "source": [
    "## Problem 2: Lower upper"
   ]
  },
  {
   "cell_type": "markdown",
   "id": "da58a910-1c3a-4225-9622-1f73221861dd",
   "metadata": {},
   "source": [
    "Write a function that takes one argument: string ``s`` and **returns** a list with two elements. The first element should be the number of **lowercase letters** in ``s``. The second element should be the number of **uppercase letters** in ``s``."
   ]
  },
  {
   "cell_type": "markdown",
   "id": "f0d210ad-bab0-4439-b563-3ddf41b96cb0",
   "metadata": {},
   "source": [
    "Hint/reminder: To check if one character ``c`` is lowercase you use ``c.islower()``. To check uppercase you use ``c.isupper()``."
   ]
  },
  {
   "cell_type": "code",
   "execution_count": 107,
   "id": "d738ed1f-74a4-4d76-a174-924595ae9007",
   "metadata": {},
   "outputs": [],
   "source": [
    "def count_letters(s):\n",
    "    first_count = 0\n",
    "    second_count = 0\n",
    "    for i in s:\n",
    "        if i.islower():\n",
    "            first_count+=1\n",
    "        elif i.isupper():\n",
    "            second_count +=1\n",
    "    return [first_count, second_count]\n"
   ]
  },
  {
   "cell_type": "markdown",
   "id": "73ed908f-7b48-4d33-9a33-55de2e44a92e",
   "metadata": {},
   "source": [
    "Test your function using the code below:"
   ]
  },
  {
   "cell_type": "code",
   "execution_count": 109,
   "id": "74d0c866-dbe5-4921-ba9b-ca8e2f7560fb",
   "metadata": {},
   "outputs": [
    {
     "name": "stdout",
     "output_type": "stream",
     "text": [
      "SUCCESS\n"
     ]
    }
   ],
   "source": [
    "data = [\n",
    "    '',\n",
    "    'abc',\n",
    "    'ABC',\n",
    "    'aBcDeFg',\n",
    "    'AbCdEfG',\n",
    "    'abc123ABC',\n",
    "    '!2a!!!?'\n",
    "]\n",
    "correct_answers = [[0, 0], [3, 0], [0, 3], [4, 3], [3, 4], [3, 3], [1, 0]]\n",
    "test_function(data, correct_answers, count_letters)"
   ]
  },
  {
   "cell_type": "markdown",
   "id": "66631034-7cad-4305-b527-f674876794ac",
   "metadata": {},
   "source": [
    "## Problem 3: Sum of maximums"
   ]
  },
  {
   "cell_type": "markdown",
   "id": "ce86eee6-a938-49fc-ac0f-8c0aef435cb9",
   "metadata": {},
   "source": [
    "Write a function that takes one argument: A 2-dimensional **numpy array** of floats ``M`` and:\n",
    "* For each column computes the maximum negative element.\n",
    "* Returns the sum of those elements."
   ]
  },
  {
   "cell_type": "code",
   "execution_count": 111,
   "id": "bb2a3903-1499-4aa9-b782-9a1de7ced591",
   "metadata": {},
   "outputs": [
    {
     "data": {
      "text/plain": [
       "-3.0"
      ]
     },
     "execution_count": 111,
     "metadata": {},
     "output_type": "execute_result"
    }
   ],
   "source": [
    "def sum_max_negative_columns(M):\n",
    "     L=[]\n",
    "     for c  in np.transpose(M):\n",
    "         negatives=c[np.where(c<0)]\n",
    "         L.append(max(negatives,default=0))\n",
    "     return sum(L)\n",
    "sum_max_negative_columns(np.array([[4.,-6.],[3.,-3.]]))"
   ]
  },
  {
   "cell_type": "code",
   "execution_count": 113,
   "id": "b5ab1393-b1eb-46be-ba7f-ea20cfd8ad13",
   "metadata": {},
   "outputs": [
    {
     "name": "stdout",
     "output_type": "stream",
     "text": [
      "SUCCESS\n"
     ]
    }
   ],
   "source": [
    "data = [\n",
    "    np.array([[1., 2., 3.], [4., 5., 6.], [7., 8., 9.]]),\n",
    "    np.array([[-1., 4., 1., -2., -3., -5.],\n",
    "             [1., 4., 1., -2., -3., -5.],\n",
    "             [1., -4., 1., 2., 3., -5.]]),\n",
    "    np.array([[-1000.], [-50.], [10.]]),\n",
    "    np.array([[-1000., -50., 10.]])\n",
    "]\n",
    "correct_answers = [0, -15, -50, -1050]\n",
    "test_function(data, correct_answers, sum_max_negative_columns)"
   ]
  },
  {
   "cell_type": "markdown",
   "id": "e817f174-045e-4e41-afb2-83b3a6e8030f",
   "metadata": {},
   "source": [
    "## Problem 4: Points on a circle"
   ]
  },
  {
   "cell_type": "markdown",
   "id": "93059c89-f373-4af1-831a-59050f14b67a",
   "metadata": {},
   "source": [
    "Write a function that takes a positive integer `n` and returns a pair of arrays `X, Y` such `(X[i],Y[i])` are `n` evenly spaced points on the unit circle $\\{(x,y):x^2+y^2=1\\}$. For example, for `n=4` your function can return `X=[1,0,-1,0]` and `Y=[0,1,0,-1]` (other correct answers are possible). Test your function on a few examples for different values of `n` and visualise the results."
   ]
  },
  {
   "cell_type": "code",
   "execution_count": 334,
   "id": "4b138c5f-c38d-4f9e-a368-5f940563c358",
   "metadata": {},
   "outputs": [
    {
     "data": {
      "text/plain": [
       "([0.36251182789631203,\n",
       "  -0.9883735515800294,\n",
       "  0.6258617236837173,\n",
       "  0.3625118278963124],\n",
       " [0.9319791707089138,\n",
       "  -0.1520451332239181,\n",
       "  -0.7799340374849955,\n",
       "  0.9319791707089137])"
      ]
     },
     "execution_count": 334,
     "metadata": {},
     "output_type": "execute_result"
    }
   ],
   "source": [
    "import numpy as np\n",
    "import matplotlib.pyplot as plt\n",
    "\n",
    "def circle_linspace(n):\n",
    "    theta = np.linspace(0, 2 * np.pi, n)\n",
    "    angle = np.random.uniform(0, 2 * np.pi)\n",
    "    theta = (theta + angle)%(2 * np.pi)\n",
    "    x = np.cos(theta).tolist()\n",
    "    y = np.sin(theta).tolist()\n",
    "    return x, y\n",
    "circle_linspace(4)"
   ]
  },
  {
   "cell_type": "code",
   "execution_count": 347,
   "id": "af3dc483-c0ca-47ba-a2d9-ed5d0b0669f0",
   "metadata": {},
   "outputs": [
    {
     "data": {
      "image/png": "[encoded data removed]",
      "text/plain": [
       "<Figure size 640x480 with 1 Axes>"
      ]
     },
     "metadata": {},
     "output_type": "display_data"
    }
   ],
   "source": [
    "x, y = circle_linspace(1000)\n",
    "plt.plot(x, y, color = \"blue\")\n",
    "plt.title(\"Visualization of circle_linspace()\")\n",
    "plt.axis(\"equal\") \n",
    "plt.grid(True)\n",
    "plt.xlabel('x')\n",
    "plt.ylabel('y')\n",
    "plt.show()\n",
    "\n"
   ]
  },
  {
   "cell_type": "markdown",
   "id": "f8dbd4c7-575b-4c1b-a0d5-c8240ddbd81e",
   "metadata": {},
   "source": [
    "## Problem 5: Newton method for computing square roots"
   ]
  },
  {
   "cell_type": "markdown",
   "id": "0b3d8085-e8b1-4be1-916a-39db776bb255",
   "metadata": {},
   "source": [
    "Write a function that takes two arguments: floating-point positive numbers ``x`` and ``error_bound`` and returns the floating-point approximation of the square root of ``x``. The function should use Newton's method given by the formula:\n",
    "\n",
    "$y_0 = x/2$\n",
    "\n",
    "$y_{i+1} = \\left(y_i + \\frac{x}{y_i}\\right) / 2$\n",
    "\n",
    "You will need to decide when to stop the iteration. Use a ``while`` loop to stop when \n",
    "\n",
    "$|y_i - y_{i+1}| < \\textrm{error\\_bound}$\n",
    "\n",
    "If you need to understand the method better, you can look it up on Wikipedia:\n",
    "https://en.wikipedia.org/wiki/Methods_of_computing_square_roots#Babylonian_method"
   ]
  },
  {
   "cell_type": "code",
   "execution_count": 317,
   "id": "11e1080f-ebf0-41b8-b250-cb6486544780",
   "metadata": {},
   "outputs": [],
   "source": [
    "def newton_square_root(x, error_bound=1e-9):\n",
    "    current = x/2\n",
    "    previous = 0\n",
    "    while np.abs(current-previous)> error_bound:\n",
    "        previous = current\n",
    "        current = (previous + x/previous)/2\n",
    "\n",
    "    return current\n",
    "        "
   ]
  },
  {
   "cell_type": "code",
   "execution_count": 345,
   "id": "22397715-94e5-402a-b264-823aabf13d7c",
   "metadata": {},
   "outputs": [
    {
     "data": {
      "text/plain": [
       "0.17320508075688773"
      ]
     },
     "execution_count": 345,
     "metadata": {},
     "output_type": "execute_result"
    }
   ],
   "source": [
    "newton_square_root(.03)"
   ]
  },
  {
   "cell_type": "code",
   "execution_count": null,
   "id": "fa403c04-25e8-40c4-9596-143461ac2699",
   "metadata": {},
   "outputs": [],
   "source": []
  },
  {
   "cell_type": "markdown",
   "id": "4750306b-40ba-4340-a1c1-1a60049e9935",
   "metadata": {},
   "source": [
    "Test your method on some examples\n",
    "\n",
    "**Bonus** Read on measuring execution time in Python (for example the ``timeit`` package). Compare the speed of your function (you should make many calls, for example 100000) for different error bounds. Also compare with Python functions ``math.sqrt`` and `np.sqrt`."
   ]
  },
  {
   "cell_type": "markdown",
   "id": "622e5b1e-a33b-4f22-9b1b-05a3945db5a4",
   "metadata": {},
   "source": [
    "## Problem 6: Special triples"
   ]
  },
  {
   "cell_type": "markdown",
   "id": "1cc608c1-21cf-442e-97a4-ca5f401089b9",
   "metadata": {},
   "source": [
    "* Write a function that takes two inputs: positive integers `x` and `y`. The function outputs `True` if the digits of `y` are a permutation of digits of `x`. Please consult the testing code to make sure you understand the problem statement."
   ]
  },
  {
   "cell_type": "code",
   "execution_count": 327,
   "id": "35ecf822-39f1-4e10-b077-8f04f50ff4a6",
   "metadata": {},
   "outputs": [],
   "source": [
    "def is_permutation(x,y):\n",
    "    n=str(x)\n",
    "    m= str(y)\n",
    "    if len(n) != len(m) :\n",
    "        return false\n",
    "    return sorted(n)==sorted(m)    "
   ]
  },
  {
   "cell_type": "code",
   "execution_count": 329,
   "id": "9938596b-1ded-496c-b0aa-73527379ebc2",
   "metadata": {},
   "outputs": [],
   "source": [
    "data = [\n",
    "    (123, 124),\n",
    "    (11, 111),\n",
    "    (178, 871),\n",
    "    (1151, 5111),\n",
    "    (2123, 1223),\n",
    "    (1266, 2116)\n",
    "]\n",
    "correct_answers = [False, False, True, True, True, False]\n",
    "def test_permutation(data, correct_answers, f):\n",
    "    for i in range(len(data)):\n",
    "        answer = f(*data[i])\n",
    "        if answer != correct_answers[i]:\n",
    "            print('WRONG ANSWER')\n",
    "            print('Argument:', data[i])\n",
    "            print('Correct answer:', correct_answers[i])\n",
    "            print('Your answer:', answer)\n",
    "            return\n",
    "    print('SUCCESS')"
   ]
  },
  {
   "cell_type": "code",
   "execution_count": 235,
   "id": "dfa271c5-4b26-4048-922e-e5ae74064ed2",
   "metadata": {},
   "outputs": [
    {
     "name": "stdout",
     "output_type": "stream",
     "text": [
      "SUCCESS\n"
     ]
    }
   ],
   "source": [
    "test_permutation(data, correct_answers, is_permutation)"
   ]
  },
  {
   "cell_type": "markdown",
   "id": "0a6faaff-f3d3-4003-8cc5-7cbeb601c0a6",
   "metadata": {},
   "source": [
    "* Use the function `is_permutation` and other Python code to find all triples of integers $0<a<b<c<10^4$ such that:\n",
    "    1) $a,b,c$ are an arithmetic progression, that is $b-a=c-b$.\n",
    "    2) All of $a,b,c$ are prime numbers.\n",
    "    3) Digits of $a,b,c$ are permutations of each other."
   ]
  },
  {
   "cell_type": "markdown",
   "id": "fa82bcb4-3519-474f-a4f4-d8403ff5d4e1",
   "metadata": {},
   "source": [
    "## Problem 7: Snake list\n",
    "\n",
    "Write a function that takes as input a square matrix (list of lists) and returns a list which contains all elements from the matrix in a \"snake\" (spiral) fashion."
   ]
  },
  {
   "cell_type": "code",
   "execution_count": 41,
   "id": "14d3924f-d29a-4249-9d2c-f6015dd0cb40",
   "metadata": {},
   "outputs": [],
   "source": [
    "def snake_list(M):\n",
    "    matrix=np.array(M)\n",
    "    Res = []\n",
    "    while matrix.size:\n",
    "        Res.extend(matrix[0])\n",
    "        matrix = matrix[1:]\n",
    "\n",
    "        if matrix.size:\n",
    "            matrix=np.rot90(matrix)\n",
    "    return Res       "
   ]
  },
  {
   "cell_type": "code",
   "execution_count": 43,
   "id": "2794e4ab-b46d-47a8-84c8-baa0a7d7cd55",
   "metadata": {},
   "outputs": [],
   "source": [
    "M = [\n",
    "    [1, 2, 3],\n",
    "    [4, 5, 6],\n",
    "    [7, 8, 9]\n",
    "]"
   ]
  },
  {
   "cell_type": "code",
   "execution_count": 45,
   "id": "83af88d9-becd-4f31-8fe6-518c1d38f5e8",
   "metadata": {},
   "outputs": [
    {
     "name": "stdout",
     "output_type": "stream",
     "text": [
      "[1, 2, 3, 6, 9, 8, 7, 4, 5]\n"
     ]
    }
   ],
   "source": [
    "print (snake_list(M))"
   ]
  },
  {
   "cell_type": "markdown",
   "id": "65020399-71b0-45ec-bfbe-97bb07f7b291",
   "metadata": {},
   "source": [
    "For the matrix above ``snake_list`` should return the list ``[1, 2, 3, 6, 9, 8, 7, 4, 5]``."
   ]
  },
  {
   "cell_type": "code",
   "execution_count": 47,
   "id": "4b26685f-491a-4fa1-9411-ea24768a4851",
   "metadata": {},
   "outputs": [],
   "source": [
    "M2 = [\n",
    "    [1, 2, 3, 4],\n",
    "    [5, 6, 7, 8],\n",
    "    [9, 10, 11, 12],\n",
    "    [13, 14, 15, 16]\n",
    "]"
   ]
  },
  {
   "cell_type": "code",
   "execution_count": 49,
   "id": "b3611dff-49d3-4faa-bb0f-8f7f3c95a8a8",
   "metadata": {},
   "outputs": [
    {
     "name": "stdout",
     "output_type": "stream",
     "text": [
      "[1, 2, 3, 4, 8, 12, 16, 15, 14, 13, 9, 5, 6, 7, 11, 10]\n"
     ]
    }
   ],
   "source": [
    "print(snake_list(M2))"
   ]
  },
  {
   "cell_type": "markdown",
   "id": "bd5b9ca3-652a-492b-9a61-8001b1b2de2a",
   "metadata": {},
   "source": [
    "And for this one it should return ``[1, 2, 3, 4, 8, 12, 16, 15, 14, 13, 9, 5, 6, 7, 11, 10]``."
   ]
  },
  {
   "cell_type": "markdown",
   "id": "4f824c5c-b0e4-4001-8b05-7e1d18b485af",
   "metadata": {},
   "source": [
    "## Problem 8: Neural networks"
   ]
  },
  {
   "cell_type": "markdown",
   "id": "e9d02e24-d600-492d-be23-99b4930fd713",
   "metadata": {},
   "source": [
    "A **fully-connected ReLU neural network with one hidden layer** with $d$ **inputs**, $n$ **hidden neurons** and $o$ **outputs** is defined by four arrays of real parameters (**weights**):\n",
    "\n",
    "$$W\\in\\mathbb{R}^{d\\times n},b\\in\\mathbb{R}^n,V\\in\\mathbb{R}^{n\\times o},b'\\in\\mathbb{R}^{o}$$\n",
    "\n",
    "Given the parameters $\\theta=(W,b,V,b')$, the neural network computes a function $f_\\theta:\\mathbb{R}^d\\to\\mathbb{R}^o$ using the formula:\n",
    "\n",
    "$$f_\\theta(x)_k = b'_k+\\sum_{j=1}^n V_{jk}\\mathrm{ReLU}\\left(b_j+\\sum_{i=1}^d W_{ij}x_i\\right)\\text{ for }k=1,\\ldots,o\\;.$$\n",
    "\n",
    "Using matrix notation (and applying ReLU componentwise), we can write this as\n",
    "\n",
    "$$ \\text{Eq. (1):}\\qquad\\qquad f_\\theta(x) = b'+ V^T \\mathrm{ReLU}( b+ W^T x) $$\n",
    "\n",
    "In this problem, we consider a neural network solution for the problem of **handwritten digit classification**. This is a well-known problem for which we will use a public dataset called MNIST. Our input will be grayscale (black-white) pictures with $28\\times 28=784$ pixels. Therefore, we will take\n",
    "$d=784$. The problem we are solving is classifying the digits into one of the values $0,1,\\ldots,9$. Accordingly, we will take the number of outputs $o=10$. The network's output (which is a vector with 10 coordinates) is given by Eq. (1). Then, the network's **prediction** will be the index of the output coordinate (neuron) which gave the largest value. Mathematically,\n",
    "\n",
    "$$ \\text{Eq. (2):}\\qquad\\qquad\\mathrm{pred}_{\\theta}(x)=\\mathrm{argmax}_{k=0,1,\\ldots,9}\\; f_\\theta(x)_k\\;.$$\n",
    "\n",
    "a) Download `mnist_input.npz` and `mnist_weights.npz` files. Several numpy arrays are stored inside those files. Use numpy `np.load` function to load those arrays into memory"
   ]
  },
  {
   "cell_type": "code",
   "execution_count": null,
   "id": "1d5578f2-dc6f-4a02-b760-e0f609ba16b2",
   "metadata": {},
   "outputs": [],
   "source": []
  },
  {
   "cell_type": "code",
   "execution_count": 230,
   "id": "fb43aa64-1d6a-434b-b619-d19184c00363",
   "metadata": {
    "scrolled": true
   },
   "outputs": [],
   "source": [
    "import numpy as np\n",
    "mnist_input = np.load('mnist_inputs.npz')\n",
    "mnist_weights = np.load('mnist_weights.npz')\n"
   ]
  },
  {
   "cell_type": "markdown",
   "id": "fcb670c0-0af8-4774-a4ad-2d2eb7960343",
   "metadata": {},
   "source": [
    "## This is me reading the data Keys"
   ]
  },
  {
   "cell_type": "code",
   "execution_count": 128,
   "id": "083f42d1-c1b7-44b2-9492-e39f378bb5e7",
   "metadata": {},
   "outputs": [
    {
     "name": "stdout",
     "output_type": "stream",
     "text": [
      "['images', 'labels']\n",
      "['W', 'b', 'V', 'bprime']\n"
     ]
    }
   ],
   "source": [
    "print(mnist_input.files)\n",
    "print(mnist_weights.files)\n"
   ]
  },
  {
   "cell_type": "code",
   "execution_count": 130,
   "id": "2eb235b2-21ea-4605-afc2-bd51129de9eb",
   "metadata": {},
   "outputs": [],
   "source": [
    "images = mnist_input['images']\n",
    "label = mnist_input['labels']"
   ]
  },
  {
   "cell_type": "code",
   "execution_count": 132,
   "id": "526a1a2f-2b56-4bdd-987a-03f1e7912048",
   "metadata": {},
   "outputs": [
    {
     "data": {
      "text/plain": [
       "(10000, 784)"
      ]
     },
     "execution_count": 132,
     "metadata": {},
     "output_type": "execute_result"
    }
   ],
   "source": [
    "images.shape"
   ]
  },
  {
   "cell_type": "code",
   "execution_count": 159,
   "id": "5511423c-181d-4c7a-a002-1c97770bb07f",
   "metadata": {},
   "outputs": [],
   "source": [
    "W = mnist_weights['W']\n",
    "b = mnist_weights['b']\n",
    "V = mnist_weights['V']\n",
    "b_prime = mnist_weights['bprime']"
   ]
  },
  {
   "cell_type": "code",
   "execution_count": 161,
   "id": "fd862eb0-8812-4578-b909-98a34b34d047",
   "metadata": {},
   "outputs": [
    {
     "data": {
      "text/plain": [
       "(12, 10)"
      ]
     },
     "execution_count": 161,
     "metadata": {},
     "output_type": "execute_result"
    }
   ],
   "source": [
    "V.shape"
   ]
  },
  {
   "cell_type": "code",
   "execution_count": null,
   "id": "555ee861-b2d9-40c5-8d66-cfa2a6974ec1",
   "metadata": {},
   "outputs": [],
   "source": []
  },
  {
   "cell_type": "code",
   "execution_count": null,
   "id": "6122d083-9fc4-4775-b6e1-41306a2eac2c",
   "metadata": {},
   "outputs": [],
   "source": []
  },
  {
   "cell_type": "code",
   "execution_count": null,
   "id": "8bb18c42-4f65-4ca5-a58c-be8b1c51ff7e",
   "metadata": {},
   "outputs": [],
   "source": []
  },
  {
   "cell_type": "markdown",
   "id": "bf0312e7-80ba-4758-af2e-ece64e81d669",
   "metadata": {},
   "source": [
    "b) First, consider `images` and `labels` arrays loaded from `mnist_inputs.npz`. Given index `i`, the element `images[i]` represents a $28\\times 28$ black-white picture with a handwritten digit. Then, the element `labels[i]` is an integer specifying which digit is in the picture.\n",
    "\n",
    "Use `matplotlib` to visualise some example images and check their labels. Hint: look up `np.reshape` and `plt.imshow` functions."
   ]
  },
  {
   "cell_type": "code",
   "execution_count": 234,
   "id": "b3d4fc9c-e529-4aa7-90c4-9d5cdc98dabe",
   "metadata": {},
   "outputs": [
    {
     "data": {
      "image/png": "[encoded data removed]",
      "text/plain": [
       "<Figure size 1200x500 with 7 Axes>"
      ]
     },
     "metadata": {},
     "output_type": "display_data"
    }
   ],
   "source": [
    "import numpy as np\n",
    "import matplotlib.pyplot as plt\n",
    "\n",
    "def show_mnist_images(images, label, num_images=7):\n",
    "    plt.figure(figsize=(12,5))\n",
    "    for i in range(num_images):\n",
    "        image = images[i].reshape(28, 28)\n",
    "        plt.subplot(1, num_images, i + 1)\n",
    "        plt.imshow(image, cmap='gray')\n",
    "        plt.title(f'Label: {label[i]}')\n",
    "        plt.axis('off')\n",
    "    plt.show()\n",
    "\n",
    "\n",
    "show_mnist_images(images, label)\n"
   ]
  },
  {
   "cell_type": "markdown",
   "id": "d92023a1-a2cc-4ada-a15c-9704e3da7091",
   "metadata": {},
   "source": [
    "c) Create a `NeuralNetwork` class with methods `__init__`, `evaluate` and `predict`. Look in the comments for further instructions:"
   ]
  },
  {
   "cell_type": "code",
   "execution_count": 246,
   "id": "e252b17c-49c6-4825-a96f-26df1421ce0d",
   "metadata": {},
   "outputs": [],
   "source": [
    "import numpy as np\n",
    "\n",
    "class NeuralNetwork:\n",
    "    def __init__(self, W, b, V, b_prime):\n",
    "\n",
    "        self.W = W\n",
    "        self.b = b\n",
    "        self.V = V\n",
    "        self.b_prime = b_prime\n",
    "    \n",
    "    def relu(self, x):\n",
    "\n",
    "        return np.maximum(0, x)\n",
    "\n",
    "    def evaluate(self, x):\n",
    "        if x.ndim == 1:\n",
    "            # If x is a vector\n",
    "            p = np.dot(self.W.T, x) + self.b\n",
    "            q = self.relu(p)\n",
    "            output = np.dot(self.V.T, q) + self.b_prime\n",
    "        else:\n",
    "            # If x is a matrix\n",
    "            p = np.dot(x, self.W )+ self.b\n",
    "            q = self.relu(p)\n",
    "            output = np.dot(q, self.V) + self.b_prime\n",
    "\n",
    "        return output\n",
    "        \n",
    "    def predict(self, x):\n",
    "        output = self.evaluate(x)\n",
    "        if x.ndim == 1:\n",
    "            return np.argmax(output)\n",
    "        else:\n",
    "            return np.argmax(output, axis=1)\n",
    "\n",
    "    def get_accuracy(self, x, label):\n",
    "\n",
    "        predictions = self.predict(x)\n",
    "        correct_predictions = np.sum(predictions == label)\n",
    "        accuracy = correct_predictions / len(label)\n",
    "        \n",
    "        return accuracy"
   ]
  },
  {
   "cell_type": "markdown",
   "id": "3ec6271b-8a97-4d14-b19a-c18fd2aefd27",
   "metadata": {},
   "source": [
    "d) Test your function on:\n",
    "* Random weight matrices initialized according to the standard Gaussian distribution. Try a few different values of $n$. Can you interpret the results?\n",
    "* The weight matrices loaded from the `mnist_weights.npz` file. What is the $n$ of those weights? What is the accuracy? "
   ]
  },
  {
   "cell_type": "code",
   "execution_count": 248,
   "id": "c7833e72-782d-4632-b504-65bbdb7e6502",
   "metadata": {},
   "outputs": [],
   "source": [
    "n_network = NeuralNetwork(W, b, V, b_prime)"
   ]
  },
  {
   "cell_type": "code",
   "execution_count": 250,
   "id": "413985a3-f49f-4506-a378-fa7061814f5f",
   "metadata": {},
   "outputs": [
    {
     "name": "stdout",
     "output_type": "stream",
     "text": [
      "Output for a single image:\n",
      "[ -0.45998187 -11.95910649   1.75289867   4.18892743  -3.42243753\n",
      "   0.30823608  -7.76776153   9.92415517  -0.93978193   3.22780885]\n"
     ]
    }
   ],
   "source": [
    "single_image = images[0]\n",
    "print(\"Output for a single image:\")\n",
    "print(n_network.evaluate(single_image))"
   ]
  },
  {
   "cell_type": "code",
   "execution_count": 252,
   "id": "3b7d49f1-bac7-43ae-b9f4-04150356b3fb",
   "metadata": {},
   "outputs": [
    {
     "name": "stdout",
     "output_type": "stream",
     "text": [
      "Output for multiple images:\n",
      "[[ -0.45998187 -11.95910649   1.75289867   4.18892743  -3.42243753\n",
      "    0.30823608  -7.76776153   9.92415517  -0.93978193   3.22780885]\n",
      " [ -0.0849092    1.11349293   8.56781225   4.80071688 -16.12149105\n",
      "    5.58460642   4.281063   -12.20881373   2.05820625 -15.26011916]\n",
      " [ -5.30826643   4.67848808   0.47731565  -0.92015269  -4.28192505\n",
      "   -1.07730043  -3.18104692  -0.81236035  -0.38178569  -3.00149905]\n",
      " [ 11.0084924  -12.79912769   1.32953534  -0.46946401  -5.33783679\n",
      "   -0.20394259   1.50454215   1.423125     0.52173215  -0.97242643]\n",
      " [ -0.35052832  -5.77851076   1.98249724  -1.48359007   7.65844534\n",
      "   -0.24752229   1.62821678   2.3495278    1.55895814   4.09297057]\n",
      " [ -7.5858401    5.9537375   -0.62802047  -1.24638918  -5.80291452\n",
      "   -1.62878513  -5.80334879  -0.45582201  -0.82049669  -2.24220237]\n",
      " [ -4.31326791  -1.07546101  -5.02993376  -0.24783829   8.74950785\n",
      "    2.76702013  -3.29669685   2.61207868   3.6101984    3.84824202]\n",
      " [ -7.70740509   0.66758421  -4.30379184  -1.26902561   0.44260623\n",
      "    1.05318394  -5.0294111   -1.98214895   0.33701338   5.75272246]\n",
      " [ -1.19121479  -3.93196588   2.64327142  -3.01149406   2.40377768\n",
      "    1.73154022   9.25689636  -6.31787991  -1.96442384  -1.15384632]\n",
      " [ -2.59169375  -8.96005143  -4.30226876  -2.9893883    6.17214606\n",
      "   -1.18681933  -3.25150401   5.86699754   2.33708739  10.54916629]]\n"
     ]
    }
   ],
   "source": [
    "# Test on multiple images\n",
    "print(\"Output for multiple images:\")\n",
    "print(n_network.evaluate(images[:10]))"
   ]
  },
  {
   "cell_type": "code",
   "execution_count": 254,
   "id": "bb1d173f-b740-4e46-aa31-67de4fceed70",
   "metadata": {},
   "outputs": [
    {
     "name": "stdout",
     "output_type": "stream",
     "text": [
      "Accuracy on the first 1000 images:\n",
      "0.928\n"
     ]
    }
   ],
   "source": [
    "print(\"Accuracy on the first 1000 images:\")\n",
    "print(n_network.get_accuracy(images[:1000], label[:1000]))"
   ]
  },
  {
   "cell_type": "code",
   "execution_count": 258,
   "id": "ec23d32f-089d-437d-9fb4-d97039029b47",
   "metadata": {},
   "outputs": [
    {
     "name": "stdout",
     "output_type": "stream",
     "text": [
      "Accuracy on the first 800 images:\n",
      "0.9275\n"
     ]
    }
   ],
   "source": [
    "print(\"Accuracy on the first 800 images:\")\n",
    "print(n_network.get_accuracy(images[:800], label[:800]))\n"
   ]
  },
  {
   "cell_type": "code",
   "execution_count": null,
   "id": "090dcc16-158b-4780-824d-b55399beb560",
   "metadata": {},
   "outputs": [],
   "source": []
  },
  {
   "cell_type": "code",
   "execution_count": null,
   "id": "c00ee5e8-85fc-4534-b590-593a4196e445",
   "metadata": {},
   "outputs": [],
   "source": []
  },
  {
   "cell_type": "markdown",
   "id": "c98fafc4-841e-4b1b-a258-2a740eeaecac",
   "metadata": {},
   "source": [
    "## Problem 9: Working with files"
   ]
  },
  {
   "cell_type": "markdown",
   "id": "195f4c33-9fe4-4ae8-9067-35b349c88ec8",
   "metadata": {},
   "source": [
    "This exercise is to practice working with files. \n",
    "\n",
    "There is a file ``sorted_small.txt`` included with this assignment. Solve the problem described below reading your inputs from the file.\n",
    "\n",
    "**Please read the following instructions carefully.** The file contains a number of inputs. **Each input consists of three lines**:\n",
    "* The first line contains two integers $1 \\le a \\le b$.\n",
    "* The second line contains one integer $1 \\le n$.\n",
    "* The third line contains $n$ sorted integers $$1 \\le s_1 \\le s_2 \\le \\ldots \\le s_n.$$\n",
    "\n",
    "All integers on a line are separated by spaces. **You can open the file and see for yourself to understand the input**.\n",
    "\n",
    "For each input, you should output ``True`` or ``False``. You should output ``True`` if there exists $1\\le i \\le n$ such that\n",
    "$$a \\le s_i \\le b.$$\n",
    "\n",
    "**Make a list of all your outputs and compare it with the list of correct answers below**."
   ]
  },
  {
   "cell_type": "code",
   "execution_count": 352,
   "id": "cb8c70bc-500f-4b04-a157-b04b6a05c9b7",
   "metadata": {},
   "outputs": [
    {
     "name": "stdout",
     "output_type": "stream",
     "text": [
      "[False, True, True, False, True, False, False, True, False, True, True, True, True, False, False, False]\n"
     ]
    }
   ],
   "source": [
    "def check_condition(filename):\n",
    "    results = []\n",
    "    with open(filename, 'r') as file:\n",
    "        while True:\n",
    "            line = file.readline()\n",
    "            if not line:\n",
    "                break\n",
    "            r, t = map(int, line.strip().split())\n",
    "            \n",
    "            m = int(file.readline().strip())\n",
    "            \n",
    "            sorted_integers = list(map(int, file.readline().strip().split()))\n",
    "            \n",
    "            result = any(r <= s <= t for s in sorted_integers)\n",
    "            results.append(result)\n",
    "    \n",
    "    return results\n",
    "\n",
    "print(results)"
   ]
  },
  {
   "cell_type": "code",
   "execution_count": null,
   "id": "c87f8a0b-078f-4469-828c-b075f083b346",
   "metadata": {},
   "outputs": [],
   "source": []
  },
  {
   "cell_type": "code",
   "execution_count": null,
   "id": "953894db-096d-4567-931e-3f7ce56d2103",
   "metadata": {},
   "outputs": [],
   "source": [
    "correct_answers = [False, True, True, False, True, False, False, True, False, True, True, True, True, False, False, False]"
   ]
  },
  {
   "cell_type": "markdown",
   "id": "ffec4bc7-16eb-4051-bf99-1b11471f0c9f",
   "metadata": {},
   "source": [
    "BONUS: You can try writing \"binary search\" instead of going through the list left-to-right."
   ]
  },
  {
   "cell_type": "code",
   "execution_count": null,
   "id": "b520e7df-90c2-493d-9c05-a267a622958f",
   "metadata": {},
   "outputs": [],
   "source": []
  },
  {
   "cell_type": "markdown",
   "id": "a59c1274-f742-488d-99b0-4e6dc3a00a25",
   "metadata": {},
   "source": [
    "## Problem 10: Sorting lectures "
   ]
  },
  {
   "cell_type": "markdown",
   "id": "d4929e6f-aaee-42ac-a4dc-9a4fbea02b2c",
   "metadata": {},
   "source": [
    "Create a class `Lecture` such that each object contains three attributes (variables) `starting_time`, `finish_time` and `id_number`. Write the `__init__`, `__str__` and `__lt__` methods so that you can sort the a list of lectures according to the starting time. Create a list of lectures to test your class."
   ]
  },
  {
   "cell_type": "code",
   "execution_count": 306,
   "id": "948ad4ab-f2c4-4fa0-8d12-0c2a355c08df",
   "metadata": {},
   "outputs": [],
   "source": [
    "class Lecture:\n",
    "    def __init__(self, starting_time, finish_time, id_number):\n",
    "        self.starting_time = starting_time\n",
    "        self.finish_time = finish_time\n",
    "        self.id_number = id_number\n",
    "\n",
    "    def __str__(self):\n",
    "        s = 'starting_time:\\t%s\\tfinish_time:\\t%s\\tid_number:\\t%s' %( self.starting_time, self.finish_time,self.id_number)\n",
    "        return s\n",
    "\n",
    "    def __lt__(self, other):\n",
    "        return self.starting_time < other.starting_time\n",
    "\n",
    "\n",
    "\n"
   ]
  },
  {
   "cell_type": "code",
   "execution_count": 310,
   "id": "b0acb7f4-7950-4d22-b54e-68f1a9196f13",
   "metadata": {
    "scrolled": true
   },
   "outputs": [
    {
     "name": "stdout",
     "output_type": "stream",
     "text": [
      "starting_time:\t08:30\tfinish_time:\t10:30\tid_number:\t1210\n",
      "starting_time:\t11:00\tfinish_time:\t13:00\tid_number:\t1211\n",
      "starting_time:\t14:30\tfinish_time:\t16:30\tid_number:\t1213\n"
     ]
    }
   ],
   "source": [
    "lectures =[\n",
    "    Lecture(\"08:30\", \"10:30\",1210 ),\n",
    "    Lecture(\"11:00\", \"13:00\", 1211),\n",
    "    Lecture(\"14:30\", \"16:30\", 1213)]\n",
    "\n",
    "for lecture in lectures:\n",
    "    print(lecture)\n",
    "\n",
    "    "
   ]
  },
  {
   "cell_type": "markdown",
   "id": "29cb4236-8e23-4a2e-842b-fecc6c62c95c",
   "metadata": {},
   "source": [
    "## Problem 11: Scheduling classrooms"
   ]
  },
  {
   "cell_type": "markdown",
   "id": "c9faf6d0-794a-4dbe-90de-74bb49f01b5d",
   "metadata": {},
   "source": [
    "You are the head tutor in charge of AIMS schedule. The building has $k$ classrooms numbered from 1 to $k$ and you are given a list of $n$ lectures. Each lecture is a pair of integers $(s_i, f_i)$ where $s_i$ is the starting time and $f_i$ the finishing time of the lecture, $0\\le s_i\\le f_i\\le 10^6$. Your task is to assign classrooms to lectures, so that no two lectures that overlap in time are assigned to the same room. If one lecture finishes at exactly the same time as another lecture starts, you are allowed to place them in the same room.\n",
    "\n",
    "Return a list of $n$ integers, where for every lecture you specify the room. If it is not possible to schedule all lectures, return the integer $-1$."
   ]
  },
  {
   "cell_type": "code",
   "execution_count": 389,
   "id": "12933f55-d2d8-421b-a58b-70321590c745",
   "metadata": {},
   "outputs": [],
   "source": [
    "def schedule_classes(k, L):\n",
    "    n = len(L)\n",
    "    L.sort()\n",
    "    if k >= n:\n",
    "        return list(range(1, n + 1))\n",
    "    \n",
    "    room_assigning = []\n",
    "    finishing_times = []\n",
    "    \n",
    "    for j in range(n):\n",
    "        start, finish = L[j]\n",
    "        assigned = False\n",
    "        \n",
    "        for room in range(len(finishing_times)):\n",
    "            if finishing_times[room] <= start:\n",
    "                room_assigning.append(room + 1)\n",
    "                finishing_times[room] = finish\n",
    "                assigned = True\n",
    "                break\n",
    "        \n",
    "        if not assigned:\n",
    "            if len(finishing_times) < k:\n",
    "                room_assigning.append(len(finishing_times) + 1)\n",
    "                finishing_times.append(finish)\n",
    "            else:\n",
    "                return -1\n",
    "    \n",
    "    return room_assigning\n"
   ]
  },
  {
   "cell_type": "code",
   "execution_count": 393,
   "id": "69bee97d-a3da-45b3-a8e8-f25fdb604ef8",
   "metadata": {},
   "outputs": [
    {
     "data": {
      "text/plain": [
       "[1, 1]"
      ]
     },
     "execution_count": 393,
     "metadata": {},
     "output_type": "execute_result"
    }
   ],
   "source": [
    "k=1\n",
    "L=[(3,5),(1,3)]\n",
    "schedule_classes(k,L)"
   ]
  },
  {
   "cell_type": "code",
   "execution_count": 395,
   "id": "f02acac0-b1aa-47d3-ab8c-165cf4a69511",
   "metadata": {},
   "outputs": [
    {
     "data": {
      "text/plain": [
       "[1, 2]"
      ]
     },
     "execution_count": 395,
     "metadata": {},
     "output_type": "execute_result"
    }
   ],
   "source": [
    "k=2\n",
    "L=[(3,6),(1,4)]\n",
    "schedule_classes(k,L)"
   ]
  },
  {
   "cell_type": "code",
   "execution_count": 400,
   "id": "bfbd48bb-dbab-4ce7-93dc-4ce1588d588b",
   "metadata": {},
   "outputs": [
    {
     "data": {
      "text/plain": [
       "-1"
      ]
     },
     "execution_count": 400,
     "metadata": {},
     "output_type": "execute_result"
    }
   ],
   "source": [
    "k=1 \n",
    "L=[(3, 6), (1, 4)]\n",
    "schedule_classes(k,L)"
   ]
  },
  {
   "cell_type": "code",
   "execution_count": 397,
   "id": "4b83c37a-9b07-4f27-bc29-9b915aeb018f",
   "metadata": {},
   "outputs": [
    {
     "data": {
      "text/plain": [
       "[1, 2, 1, 2, 1]"
      ]
     },
     "execution_count": 397,
     "metadata": {},
     "output_type": "execute_result"
    }
   ],
   "source": [
    "k=2\n",
    "L=[(4, 7), (9, 12), (5, 8), (2, 5), (1, 3)]\n",
    "schedule_classes(k,L)"
   ]
  },
  {
   "cell_type": "markdown",
   "id": "bc9ab022-adc3-4b3c-8aeb-0b84085495df",
   "metadata": {},
   "source": [
    "**Examples** On input `k=1` and `L=[(3, 5), (1, 3)]`, the output should be\n",
    "`[1, 1]`, as you have to put all lectures in the only classroom available. It is fine that the first lecture starts at the same time as the second lecture ends.\n",
    "\n",
    "For input `k=1` and `L=[(3, 6), (1, 4)]`, the output is `-1`, as from time 3 to 4 there are two lectures at the same time.\n",
    "\n",
    "For `k=2` and `L=[(3, 6), (1, 4)]`, the output can be `[1, 2]`. However, it is not the only correct output.\n",
    "\n",
    "For `k=2` and `L=[(4, 7), (9, 12), (5, 8), (2, 5), (1, 3)]`, a correct output is `[1, 1, 2, 2, 1]`. Again, the correct output is not unique."
   ]
  }
 ],
 "metadata": {
  "kernelspec": {
   "display_name": "Python 3 (ipykernel)",
   "language": "python",
   "name": "python3"
  },
  "language_info": {
   "codemirror_mode": {
    "name": "ipython",
    "version": 3
   },
   "file_extension": ".py",
   "mimetype": "text/x-python",
   "name": "python",
   "nbconvert_exporter": "python",
   "pygments_lexer": "ipython3",
   "version": "3.12.4"
  }
 },
 "nbformat": 4,
 "nbformat_minor": 5
}
