{
 "cells": [
  {
   "cell_type": "markdown",
   "metadata": {},
   "source": [
    "# Assignment"
   ]
  },
  {
   "cell_type": "markdown",
   "metadata": {},
   "source": [
    "Please submit solutions to:\n",
    "* Five problems of your choice from Section 6 of the problem sheet by Jessica (please download it from the website).\n",
    "* At least five problems from the list below."
   ]
  },
  {
   "cell_type": "markdown",
   "metadata": {},
   "source": [
    "# Problems"
   ]
  },
  {
   "cell_type": "markdown",
   "metadata": {},
   "source": [
    "### Problem 0\n",
    "\n",
    "Write a function that, given $-1<x<1$ and $\\epsilon>0$, returns the smallest $n$ such that\n",
    "$|\\sum_{k=0}^n x^k-\\frac{1}{1-x}|\\le\\epsilon$."
   ]
  },
  {
   "cell_type": "code",
   "execution_count": 54,
   "metadata": {},
   "outputs": [],
   "source": [
    "def approximate_f(x, a):\n",
    "    if -1 < x and x < 1:\n",
    "        s = 0\n",
    "        for i in range(a+1):\n",
    "           s=s+ x**i\n",
    "    #print(\"the sum of x**k for k=\",a)\n",
    "    return s"
   ]
  },
  {
   "cell_type": "code",
   "execution_count": 56,
   "metadata": {},
   "outputs": [],
   "source": [
    "def necessary_terms(x,eps):\n",
    "    y=1/(1-x)\n",
    "    i=0\n",
    "    while abs(approximate_f(x,i)-y)>eps:\n",
    "        i=i+1\n",
    "    return i\n",
    "    "
   ]
  },
  {
   "cell_type": "code",
   "execution_count": 58,
   "metadata": {},
   "outputs": [
    {
     "data": {
      "text/plain": [
       "7"
      ]
     },
     "execution_count": 58,
     "metadata": {},
     "output_type": "execute_result"
    }
   ],
   "source": [
    "necessary_terms(0.3,0.0001)"
   ]
  },
  {
   "cell_type": "code",
   "execution_count": 60,
   "metadata": {},
   "outputs": [
    {
     "data": {
      "text/plain": [
       "1832"
      ]
     },
     "execution_count": 60,
     "metadata": {},
     "output_type": "execute_result"
    }
   ],
   "source": [
    "necessary_terms(0.99, 0.000001)"
   ]
  },
  {
   "cell_type": "markdown",
   "metadata": {},
   "source": [
    "### Problem 1 \n",
    "\n",
    "Find the largest sum of a contiguous 3x3 submatrix in the matrix below"
   ]
  },
  {
   "cell_type": "code",
   "execution_count": 183,
   "metadata": {},
   "outputs": [],
   "source": [
    "M = [[842,655,195,544,768,354,285,491,49,2,917,398,822,126,286,186,278,587,877,973],\n",
    "[199,820,414,592,968,11,409,932,847,20,710,167,531,700,532,789,631,543,739,850],\n",
    "[351,516,1,581,668,127,495,177,89,893,485,352,401,51,81,749,154,369,67,863],\n",
    "[905,473,159,37,676,80,918,2,993,312,857,118,791,642,505,284,565,667,292,265],\n",
    "[329,758,667,339,452,950,955,724,95,986,255,7,853,390,543,345,470,354,970,288],\n",
    "[373,5,566,193,904,75,362,11,424,303,312,367,981,129,618,650,742,786,232,447],\n",
    "[47,582,174,632,425,505,703,127,502,931,273,963,438,577,712,730,408,718,327,409],\n",
    "[668,443,856,542,518,794,715,9,526,833,324,158,246,867,130,572,86,386,186,262],\n",
    "[325,632,471,315,99,538,897,81,371,886,32,967,569,818,50,299,524,479,586,463],\n",
    "[819,124,483,172,146,518,131,324,637,929,732,690,994,989,735,825,760,755,902,566],\n",
    "[393,546,545,949,641,34,381,499,462,686,975,757,885,430,295,574,503,671,634,425],\n",
    "[678,336,151,370,142,946,412,332,765,890,302,68,448,850,172,372,985,908,260,600],\n",
    "[588,399,4,913,201,222,945,808,361,975,689,438,799,647,721,80,634,435,20,211],\n",
    "[124,506,295,11,396,134,237,84,99,862,862,205,324,226,162,368,484,961,348,342],\n",
    "[803,603,28,126,851,393,742,625,619,700,390,564,264,539,572,121,472,925,327,751],\n",
    "[479,297,442,698,506,716,164,457,971,972,851,472,922,649,273,71,491,251,256,394],\n",
    "[880,723,782,515,269,283,51,635,238,676,439,0,555,232,843,459,554,207,826,14],\n",
    "[598,52,320,133,816,72,183,182,225,261,16,742,780,734,369,560,256,693,564,127],\n",
    "[763,896,515,449,779,441,120,113,447,939,635,671,820,168,670,800,931,772,94,402],\n",
    "[133,761,829,794,41,979,96,422,839,593,824,161,477,575,386,762,663,526,625,555]]"
   ]
  },
  {
   "cell_type": "code",
   "execution_count": 185,
   "metadata": {},
   "outputs": [],
   "source": [
    "import numpy as np\n",
    "matrix=np.array(M)"
   ]
  },
  {
   "cell_type": "code",
   "execution_count": 187,
   "metadata": {
    "scrolled": true
   },
   "outputs": [
    {
     "data": {
      "text/plain": [
       "array([[842, 655, 195],\n",
       "       [199, 820, 414],\n",
       "       [351, 516,   1]])"
      ]
     },
     "execution_count": 187,
     "metadata": {},
     "output_type": "execute_result"
    }
   ],
   "source": [
    "matrix[0:3,0:3]"
   ]
  },
  {
   "cell_type": "code",
   "execution_count": 197,
   "metadata": {},
   "outputs": [
    {
     "name": "stdout",
     "output_type": "stream",
     "text": [
      "7099\n"
     ]
    }
   ],
   "source": [
    "Q=[]\n",
    "for a in range(len(M)):\n",
    "    for c in range(len(M)):\n",
    "        sum=np.sum(matrix[a:a+3,c:c+3])\n",
    "        Q.append(sum)\n",
    "print (max(Q))        "
   ]
  },
  {
   "cell_type": "markdown",
   "metadata": {},
   "source": [
    "### \n",
    "\n",
    "Problem 2\n",
    "\n",
    "Find the largest sum of a 3x3 subsquare in the triangular array below."
   ]
  },
  {
   "cell_type": "code",
   "execution_count": null,
   "metadata": {},
   "outputs": [],
   "source": [
    "T = [[14],\n",
    "[582,222],\n",
    "[913,972,94],\n",
    "[211,502,610,378],\n",
    "[158,948,446,572,663],\n",
    "[535,325,592,4,777,584],\n",
    "[874,454,86,222,323,407,774],\n",
    "[440,311,432,358,918,238,815,740],\n",
    "[512,641,259,373,746,116,982,335,618],\n",
    "[81,270,133,589,708,849,784,647,299,850],\n",
    "[614,255,346,683,803,853,807,25,678,53,273],\n",
    "[401,431,890,470,545,342,529,53,815,159,960,591],\n",
    "[571,201,474,856,315,522,664,315,453,316,991,312,85],\n",
    "[641,951,549,421,71,446,454,30,58,632,858,418,146,324],\n",
    "[922,32,273,318,433,864,104,655,494,131,272,63,321,577,667],\n",
    "[699,431,353,73,178,714,242,507,872,961,205,412,102,696,814,737],\n",
    "[666,972,826,166,817,483,76,666,561,375,358,100,677,328,167,481,388],\n",
    "[712,472,473,682,233,584,408,298,554,118,771,529,496,565,411,982,424,909],\n",
    "[704,907,840,7,505,275,826,5,452,348,368,927,757,49,346,409,86,88,800],\n",
    "[538,264,351,509,906,250,723,128,745,484,305,822,206,44,368,427,721,263,582,701]]"
   ]
  },
  {
   "cell_type": "markdown",
   "metadata": {},
   "source": [
    "### Problem 3\n",
    "\n",
    "Consider the recursive sequence\n",
    "$$U_0=7,\\quad\n",
    "  U_1=3,\\quad\n",
    "  U_{k+1}=U_k+3U_{k-1}\\text{ for }k\\ge 1\n",
    "$$\n",
    "\n",
    "Please write a function that, given a positive integer $A$, outputs the number of all $k\\ge 0$ such that $U_k\\le A$ and $U_k$ is odd. Please test your function on some examples."
   ]
  },
  {
   "cell_type": "code",
   "execution_count": 9,
   "metadata": {},
   "outputs": [],
   "source": [
    "def function(A):\n",
    "    u_1=7\n",
    "    c_1=3\n",
    "    B=[u_1,c_1]\n",
    "    D=[u_1,c_1]\n",
    "    c=0\n",
    "    for a in range(2,A):\n",
    "        c=B[a-1]+3*B[a-2]\n",
    "        B.append(c)\n",
    "        if B[a] % 2 ==1 and B[a]<=A:\n",
    "            D.append(B[a])\n",
    "            return (len(D))\n",
    "        "
   ]
  },
  {
   "cell_type": "code",
   "execution_count": 11,
   "metadata": {},
   "outputs": [
    {
     "data": {
      "text/plain": [
       "3"
      ]
     },
     "execution_count": 11,
     "metadata": {},
     "output_type": "execute_result"
    }
   ],
   "source": [
    "function (10000)"
   ]
  },
  {
   "cell_type": "markdown",
   "metadata": {},
   "source": [
    "### Problem 4\n",
    "\n",
    "Consider an infinite decimal fraction\n",
    "$$0.12345678910111213141516171819202122232425....$$"
   ]
  },
  {
   "cell_type": "markdown",
   "metadata": {},
   "source": [
    "That is, our fraction consists of concatenated decimal representations of natural numbers in increasing order.\n",
    "Please write a function ``fraction_digit(k)`` that, given positive integer $k$, outputs the $k$-th digit of this fraction.\n",
    "For example, ``fraction_digit(1)==1``, ``fraction_digit(9)==9`` and ``fraction_digit(11)==0``. Your function should run reasonably fast at least until $k\\approx 10^6$. Test your funcion on some exmples."
   ]
  },
  {
   "cell_type": "code",
   "execution_count": 13,
   "metadata": {},
   "outputs": [],
   "source": [
    "def fraction_digit(k):\n",
    "    R=[]\n",
    "    for b in range (1000000):\n",
    "        R.append(b)\n",
    "    delimiter=\"\"\n",
    "    num_string= map(str,R)\n",
    "    new_num_str=delimiter.join(num_string)\n",
    "\n",
    "    \n",
    "    return new_num_str[k]\n",
    "\n"
   ]
  },
  {
   "cell_type": "code",
   "execution_count": 15,
   "metadata": {},
   "outputs": [
    {
     "data": {
      "text/plain": [
       "'1'"
      ]
     },
     "execution_count": 15,
     "metadata": {},
     "output_type": "execute_result"
    }
   ],
   "source": [
    "fraction_digit(10)"
   ]
  },
  {
   "cell_type": "markdown",
   "metadata": {},
   "source": [
    "### Problem 5\n",
    "\n",
    "Write a function ``count_mondays(year)`` that returns how many Mondays were/will be in a given calendar year. Below I included two suggestions of two other functions you can implement to help you. Please test the function on some examples."
   ]
  },
  {
   "cell_type": "code",
   "execution_count": 28,
   "metadata": {},
   "outputs": [],
   "source": [
    "import datetime "
   ]
  },
  {
   "cell_type": "code",
   "execution_count": 1,
   "metadata": {
    "scrolled": true
   },
   "outputs": [],
   "source": [
    "def is_leap_year(year):\n",
    "    leap=year % 4==0\n",
    "    return leap\n",
    "    # This function should return True if year is a leap year and False otherwise"
   ]
  },
  {
   "cell_type": "code",
   "execution_count": 5,
   "metadata": {},
   "outputs": [
    {
     "data": {
      "text/plain": [
       "True"
      ]
     },
     "execution_count": 5,
     "metadata": {},
     "output_type": "execute_result"
    }
   ],
   "source": [
    "is_leap_year(2024)"
   ]
  },
  {
   "cell_type": "code",
   "execution_count": 11,
   "metadata": {},
   "outputs": [],
   "source": [
    "#def days_in_month(month,year):\n",
    "    r=28\n",
    "    u=29\n",
    "    t=30\n",
    "    h=31\n",
    "    if month in [1,3,5,7,8,10,31]:\n",
    "        return h\n",
    "    elif month in [4,6,9,11]:\n",
    "        return t\n",
    "    elif month ==2 and is_leap_year(year):\n",
    "        return u\n",
    "    else:\n",
    "        return r"
   ]
  },
  {
   "cell_type": "code",
   "execution_count": 13,
   "metadata": {},
   "outputs": [
    {
     "data": {
      "text/plain": [
       "31"
      ]
     },
     "execution_count": 13,
     "metadata": {},
     "output_type": "execute_result"
    }
   ],
   "source": [
    "days_in_month(3,2024)"
   ]
  },
  {
   "cell_type": "code",
   "execution_count": 30,
   "metadata": {},
   "outputs": [],
   "source": [
    "def count_mondays(year):\n",
    "    mondays_count = 0\n",
    "    for month in range (1,13):\n",
    "        for day in range(1,32):\n",
    "            try:\n",
    "                date = datetime.date(year,month,day)\n",
    "                if date.weekday() ==0:\n",
    "                    mondays_count +=1\n",
    "            except ValueError:\n",
    "                continue\n",
    "    return mondays_count\n",
    "    # Given month (from 1 to 12) and year compute how many days the month has.\n",
    "    # Think why you need the year to do that."
   ]
  },
  {
   "cell_type": "code",
   "execution_count": 38,
   "metadata": {},
   "outputs": [
    {
     "data": {
      "text/plain": [
       "53"
      ]
     },
     "execution_count": 38,
     "metadata": {},
     "output_type": "execute_result"
    }
   ],
   "source": [
    "(count_mondays(2024))"
   ]
  },
  {
   "cell_type": "markdown",
   "metadata": {},
   "source": [
    "One more hint for this problem. You can encode days of the week as numbers: Monday=0, Tuesday=1, ..., Sunday=6\n"
   ]
  },
  {
   "cell_type": "markdown",
   "metadata": {},
   "source": [
    "### Problem 6\n",
    "\n",
    "Write a function that, given three points $x,y,z\\in\\mathbb{R}^2$, returns ``True`` if the point $(0,0)$ belongs to the triangle with vertices $x,y,z$ and ``False`` otherwise. Choose an appropriate data type to represent $x,y,z$ and test your function on some examples."
   ]
  },
  {
   "cell_type": "code",
   "execution_count": null,
   "metadata": {},
   "outputs": [],
   "source": [
    "def is_origin_inside(x, y, z):\n",
    "    pass\n",
    "    # Your code here."
   ]
  },
  {
   "cell_type": "code",
   "execution_count": null,
   "metadata": {},
   "outputs": [],
   "source": [
    "is_origin_inside((1, -1), (-1, -1), (0, 5)) # This should return True."
   ]
  },
  {
   "cell_type": "code",
   "execution_count": null,
   "metadata": {},
   "outputs": [],
   "source": [
    "is_origin_inside((1, 1), (2, 2), (5, -3)) # This should return False."
   ]
  },
  {
   "cell_type": "code",
   "execution_count": null,
   "metadata": {},
   "outputs": [],
   "source": []
  },
  {
   "cell_type": "code",
   "execution_count": null,
   "metadata": {},
   "outputs": [],
   "source": []
  },
  {
   "cell_type": "code",
   "execution_count": null,
   "metadata": {},
   "outputs": [],
   "source": []
  },
  {
   "cell_type": "markdown",
   "metadata": {},
   "source": [
    "# TUTORIAL BY JESSICA\n"
   ]
  },
  {
   "cell_type": "markdown",
   "metadata": {},
   "source": [
    "### problem 1\n",
    "Add up the numbers below 100 that are divisable by 3, 5 or both"
   ]
  },
  {
   "cell_type": "code",
   "execution_count": 75,
   "metadata": {},
   "outputs": [
    {
     "name": "stdout",
     "output_type": "stream",
     "text": [
      "2318\n"
     ]
    }
   ],
   "source": [
    "#Add up the numbers below 100 that are divisable by 3, 5 or both.\n",
    "sum=0\n",
    "for i in range (100):\n",
    "    if i%3==0 or i%5==0:\n",
    "        sum +=i\n",
    "print (sum)\n"
   ]
  },
  {
   "cell_type": "markdown",
   "metadata": {},
   "source": [
    "### Problem 2\n",
    "Make a list of the numbers that are divisable by 7 and less than 50."
   ]
  },
  {
   "cell_type": "code",
   "execution_count": 77,
   "metadata": {},
   "outputs": [
    {
     "name": "stdout",
     "output_type": "stream",
     "text": [
      "[7, 14, 21, 28, 35, 42, 49]\n"
     ]
    }
   ],
   "source": [
    " #Make a list of the numbers that are divisable by 7 and less than 50.\n",
    " L=[]\n",
    "for i in range (1,50):\n",
    "     if i%7 == 0:\n",
    "        L.append (i) \n",
    "print (L)\n",
    "    \n",
    "    "
   ]
  },
  {
   "cell_type": "markdown",
   "metadata": {},
   "source": [
    "### Problem 3\n",
    "Make a list of even numbers less than 45 that have remainder 1 on division by 3"
   ]
  },
  {
   "cell_type": "code",
   "execution_count": 79,
   "metadata": {},
   "outputs": [
    {
     "name": "stdout",
     "output_type": "stream",
     "text": [
      "[4, 10, 16, 22, 28, 34, 40]\n"
     ]
    }
   ],
   "source": [
    "\n",
    "#Make a list of even numbers less than 45 that have remainder 1 on division by 3\n",
    "R =[]\n",
    "for i in range (0,45):\n",
    "    if i%2==0 and i%3==1:\n",
    "       R.append( i)\n",
    "print (R)"
   ]
  },
  {
   "cell_type": "markdown",
   "metadata": {},
   "source": [
    "### Problem 4\n",
    "given a list a, how do you find the largest element? Write a code that finds the largest entry in[3,5,8,2,4,9]\n"
   ]
  },
  {
   "cell_type": "code",
   "execution_count": 81,
   "metadata": {},
   "outputs": [
    {
     "name": "stdout",
     "output_type": "stream",
     "text": [
      "9\n"
     ]
    }
   ],
   "source": [
    "# given a list a, how do you find the largest element? Write a code that finds the largest entry in[3,5,8,2,4,9]\n",
    "a=[3,5,8,2,4,9]\n",
    "print( max(a))"
   ]
  },
  {
   "cell_type": "markdown",
   "metadata": {},
   "source": [
    "### Problem 5\n",
    "Write a code that prints the elements of a list that are strings."
   ]
  },
  {
   "cell_type": "code",
   "execution_count": 83,
   "metadata": {},
   "outputs": [
    {
     "name": "stdout",
     "output_type": "stream",
     "text": [
      "7\n",
      "9\n"
     ]
    }
   ],
   "source": [
    "#Write a code that prints the elements of a list that are strings.\n",
    "p=[3,5,'7',8,'9',10]\n",
    "for i in p:\n",
    "    if type(i)== str:\n",
    "        print(i)"
   ]
  },
  {
   "cell_type": "code",
   "execution_count": null,
   "metadata": {},
   "outputs": [],
   "source": []
  }
 ],
 "metadata": {
  "kernelspec": {
   "display_name": "Python 3 (ipykernel)",
   "language": "python",
   "name": "python3"
  },
  "language_info": {
   "codemirror_mode": {
    "name": "ipython",
    "version": 3
   },
   "file_extension": ".py",
   "mimetype": "text/x-python",
   "name": "python",
   "nbconvert_exporter": "python",
   "pygments_lexer": "ipython3",
   "version": "3.12.4"
  }
 },
 "nbformat": 4,
 "nbformat_minor": 4
}
